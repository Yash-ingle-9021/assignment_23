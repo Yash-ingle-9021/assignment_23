{
 "cells": [
  {
   "cell_type": "code",
   "execution_count": 2,
   "id": "6706420f-11cb-475d-bcff-c18dff3f1f59",
   "metadata": {},
   "outputs": [
    {
     "name": "stdout",
     "output_type": "stream",
     "text": [
      "* ASSIGNMENT_PANDAS_ADVANCE *\n"
     ]
    }
   ],
   "source": [
    "print(\"* ASSIGNMENT_PANDAS_ADVANCE *\")"
   ]
  },
  {
   "cell_type": "code",
   "execution_count": 3,
   "id": "59c94b10-c7ce-440a-97a5-36f497ace5c3",
   "metadata": {},
   "outputs": [],
   "source": [
    "import pandas as pd"
   ]
  },
  {
   "cell_type": "code",
   "execution_count": 4,
   "id": "7ad7ee89-1e47-4e96-919e-6e56dae27656",
   "metadata": {},
   "outputs": [
    {
     "name": "stdout",
     "output_type": "stream",
     "text": [
      "Q_1_ANS:- \n"
     ]
    }
   ],
   "source": [
    "print(\"Q_1_ANS:- \")"
   ]
  },
  {
   "cell_type": "code",
   "execution_count": 5,
   "id": "10b64e72-ba56-40d8-92c4-84527452dc82",
   "metadata": {},
   "outputs": [],
   "source": [
    "df = pd.read_csv('IPL_data_2008.csv')"
   ]
  },
  {
   "cell_type": "code",
   "execution_count": 6,
   "id": "1ef74087-d345-4b33-aa0b-ac1e78b64489",
   "metadata": {},
   "outputs": [
    {
     "data": {
      "text/html": [
       "<div>\n",
       "<style scoped>\n",
       "    .dataframe tbody tr th:only-of-type {\n",
       "        vertical-align: middle;\n",
       "    }\n",
       "\n",
       "    .dataframe tbody tr th {\n",
       "        vertical-align: top;\n",
       "    }\n",
       "\n",
       "    .dataframe thead th {\n",
       "        text-align: right;\n",
       "    }\n",
       "</style>\n",
       "<table border=\"1\" class=\"dataframe\">\n",
       "  <thead>\n",
       "    <tr style=\"text-align: right;\">\n",
       "      <th></th>\n",
       "      <th>Unnamed: 0.1</th>\n",
       "      <th>Unnamed: 0</th>\n",
       "      <th>id</th>\n",
       "      <th>season</th>\n",
       "      <th>city</th>\n",
       "      <th>date</th>\n",
       "      <th>team1</th>\n",
       "      <th>team2</th>\n",
       "      <th>toss_winner</th>\n",
       "      <th>toss_decision</th>\n",
       "      <th>...</th>\n",
       "      <th>winner</th>\n",
       "      <th>win_by_runs</th>\n",
       "      <th>win_by_wickets</th>\n",
       "      <th>player_of_match</th>\n",
       "      <th>venue</th>\n",
       "      <th>umpire1</th>\n",
       "      <th>umpire2</th>\n",
       "      <th>umpire3</th>\n",
       "      <th>points</th>\n",
       "      <th>Dream_points</th>\n",
       "    </tr>\n",
       "  </thead>\n",
       "  <tbody>\n",
       "    <tr>\n",
       "      <th>0</th>\n",
       "      <td>0</td>\n",
       "      <td>NaN</td>\n",
       "      <td>1</td>\n",
       "      <td>2008</td>\n",
       "      <td>Bangalore</td>\n",
       "      <td>2008-04-18</td>\n",
       "      <td>Kolkata Knight Riders</td>\n",
       "      <td>Royal Challengers Bangalore</td>\n",
       "      <td>Royal Challengers Bangalore</td>\n",
       "      <td>field</td>\n",
       "      <td>...</td>\n",
       "      <td>Kolkata Knight Riders</td>\n",
       "      <td>140</td>\n",
       "      <td>0</td>\n",
       "      <td>BB McCullum</td>\n",
       "      <td>M Chinnaswamy Stadium</td>\n",
       "      <td>Asad Rauf</td>\n",
       "      <td>RE Koertzen</td>\n",
       "      <td>NaN</td>\n",
       "      <td>0</td>\n",
       "      <td>140</td>\n",
       "    </tr>\n",
       "    <tr>\n",
       "      <th>1</th>\n",
       "      <td>1</td>\n",
       "      <td>NaN</td>\n",
       "      <td>2</td>\n",
       "      <td>2008</td>\n",
       "      <td>Chandigarh</td>\n",
       "      <td>2008-04-19</td>\n",
       "      <td>Chennai Super Kings</td>\n",
       "      <td>Kings XI Punjab</td>\n",
       "      <td>Chennai Super Kings</td>\n",
       "      <td>bat</td>\n",
       "      <td>...</td>\n",
       "      <td>Chennai Super Kings</td>\n",
       "      <td>33</td>\n",
       "      <td>0</td>\n",
       "      <td>MEK Hussey</td>\n",
       "      <td>Punjab Cricket Association Stadium, Mohali</td>\n",
       "      <td>MR Benson</td>\n",
       "      <td>SL Shastri</td>\n",
       "      <td>NaN</td>\n",
       "      <td>0</td>\n",
       "      <td>33</td>\n",
       "    </tr>\n",
       "    <tr>\n",
       "      <th>2</th>\n",
       "      <td>2</td>\n",
       "      <td>NaN</td>\n",
       "      <td>3</td>\n",
       "      <td>2008</td>\n",
       "      <td>Delhi</td>\n",
       "      <td>2008-04-19</td>\n",
       "      <td>Rajasthan Royals</td>\n",
       "      <td>Delhi Daredevils</td>\n",
       "      <td>Rajasthan Royals</td>\n",
       "      <td>bat</td>\n",
       "      <td>...</td>\n",
       "      <td>Delhi Daredevils</td>\n",
       "      <td>0</td>\n",
       "      <td>9</td>\n",
       "      <td>MF Maharoof</td>\n",
       "      <td>Feroz Shah Kotla</td>\n",
       "      <td>Aleem Dar</td>\n",
       "      <td>GA Pratapkumar</td>\n",
       "      <td>NaN</td>\n",
       "      <td>0</td>\n",
       "      <td>9</td>\n",
       "    </tr>\n",
       "    <tr>\n",
       "      <th>3</th>\n",
       "      <td>3</td>\n",
       "      <td>NaN</td>\n",
       "      <td>4</td>\n",
       "      <td>2008</td>\n",
       "      <td>Mumbai</td>\n",
       "      <td>2008-04-20</td>\n",
       "      <td>Mumbai Indians</td>\n",
       "      <td>Royal Challengers Bangalore</td>\n",
       "      <td>Mumbai Indians</td>\n",
       "      <td>bat</td>\n",
       "      <td>...</td>\n",
       "      <td>Royal Challengers Bangalore</td>\n",
       "      <td>0</td>\n",
       "      <td>5</td>\n",
       "      <td>MV Boucher</td>\n",
       "      <td>Wankhede Stadium</td>\n",
       "      <td>SJ Davis</td>\n",
       "      <td>DJ Harper</td>\n",
       "      <td>NaN</td>\n",
       "      <td>0</td>\n",
       "      <td>5</td>\n",
       "    </tr>\n",
       "    <tr>\n",
       "      <th>4</th>\n",
       "      <td>4</td>\n",
       "      <td>NaN</td>\n",
       "      <td>5</td>\n",
       "      <td>2008</td>\n",
       "      <td>Kolkata</td>\n",
       "      <td>2008-04-20</td>\n",
       "      <td>Deccan Chargers</td>\n",
       "      <td>Kolkata Knight Riders</td>\n",
       "      <td>Deccan Chargers</td>\n",
       "      <td>bat</td>\n",
       "      <td>...</td>\n",
       "      <td>Kolkata Knight Riders</td>\n",
       "      <td>0</td>\n",
       "      <td>5</td>\n",
       "      <td>DJ Hussey</td>\n",
       "      <td>Eden Gardens</td>\n",
       "      <td>BF Bowden</td>\n",
       "      <td>K Hariharan</td>\n",
       "      <td>NaN</td>\n",
       "      <td>0</td>\n",
       "      <td>5</td>\n",
       "    </tr>\n",
       "  </tbody>\n",
       "</table>\n",
       "<p>5 rows × 22 columns</p>\n",
       "</div>"
      ],
      "text/plain": [
       "   Unnamed: 0.1  Unnamed: 0  id  season        city        date  \\\n",
       "0             0         NaN   1    2008   Bangalore  2008-04-18   \n",
       "1             1         NaN   2    2008  Chandigarh  2008-04-19   \n",
       "2             2         NaN   3    2008       Delhi  2008-04-19   \n",
       "3             3         NaN   4    2008      Mumbai  2008-04-20   \n",
       "4             4         NaN   5    2008     Kolkata  2008-04-20   \n",
       "\n",
       "                   team1                        team2  \\\n",
       "0  Kolkata Knight Riders  Royal Challengers Bangalore   \n",
       "1    Chennai Super Kings              Kings XI Punjab   \n",
       "2       Rajasthan Royals             Delhi Daredevils   \n",
       "3         Mumbai Indians  Royal Challengers Bangalore   \n",
       "4        Deccan Chargers        Kolkata Knight Riders   \n",
       "\n",
       "                   toss_winner toss_decision  ...  \\\n",
       "0  Royal Challengers Bangalore         field  ...   \n",
       "1          Chennai Super Kings           bat  ...   \n",
       "2             Rajasthan Royals           bat  ...   \n",
       "3               Mumbai Indians           bat  ...   \n",
       "4              Deccan Chargers           bat  ...   \n",
       "\n",
       "                        winner  win_by_runs win_by_wickets  player_of_match  \\\n",
       "0        Kolkata Knight Riders          140              0      BB McCullum   \n",
       "1          Chennai Super Kings           33              0       MEK Hussey   \n",
       "2             Delhi Daredevils            0              9      MF Maharoof   \n",
       "3  Royal Challengers Bangalore            0              5       MV Boucher   \n",
       "4        Kolkata Knight Riders            0              5        DJ Hussey   \n",
       "\n",
       "                                        venue    umpire1         umpire2  \\\n",
       "0                       M Chinnaswamy Stadium  Asad Rauf     RE Koertzen   \n",
       "1  Punjab Cricket Association Stadium, Mohali  MR Benson      SL Shastri   \n",
       "2                            Feroz Shah Kotla  Aleem Dar  GA Pratapkumar   \n",
       "3                            Wankhede Stadium   SJ Davis       DJ Harper   \n",
       "4                                Eden Gardens  BF Bowden     K Hariharan   \n",
       "\n",
       "  umpire3 points  Dream_points  \n",
       "0     NaN      0           140  \n",
       "1     NaN      0            33  \n",
       "2     NaN      0             9  \n",
       "3     NaN      0             5  \n",
       "4     NaN      0             5  \n",
       "\n",
       "[5 rows x 22 columns]"
      ]
     },
     "execution_count": 6,
     "metadata": {},
     "output_type": "execute_result"
    }
   ],
   "source": [
    "df.head()"
   ]
  },
  {
   "cell_type": "code",
   "execution_count": 7,
   "id": "a2eb44b8-1320-437e-a373-5f2cd3589ccd",
   "metadata": {},
   "outputs": [
    {
     "data": {
      "text/html": [
       "<div>\n",
       "<style scoped>\n",
       "    .dataframe tbody tr th:only-of-type {\n",
       "        vertical-align: middle;\n",
       "    }\n",
       "\n",
       "    .dataframe tbody tr th {\n",
       "        vertical-align: top;\n",
       "    }\n",
       "\n",
       "    .dataframe thead th {\n",
       "        text-align: right;\n",
       "    }\n",
       "</style>\n",
       "<table border=\"1\" class=\"dataframe\">\n",
       "  <thead>\n",
       "    <tr style=\"text-align: right;\">\n",
       "      <th></th>\n",
       "      <th>city</th>\n",
       "    </tr>\n",
       "  </thead>\n",
       "  <tbody>\n",
       "    <tr>\n",
       "      <th>0</th>\n",
       "      <td>Bangalore</td>\n",
       "    </tr>\n",
       "    <tr>\n",
       "      <th>1</th>\n",
       "      <td>Chandigarh</td>\n",
       "    </tr>\n",
       "    <tr>\n",
       "      <th>2</th>\n",
       "      <td>Delhi</td>\n",
       "    </tr>\n",
       "    <tr>\n",
       "      <th>3</th>\n",
       "      <td>Mumbai</td>\n",
       "    </tr>\n",
       "    <tr>\n",
       "      <th>4</th>\n",
       "      <td>Kolkata</td>\n",
       "    </tr>\n",
       "    <tr>\n",
       "      <th>...</th>\n",
       "      <td>...</td>\n",
       "    </tr>\n",
       "    <tr>\n",
       "      <th>572</th>\n",
       "      <td>Raipur</td>\n",
       "    </tr>\n",
       "    <tr>\n",
       "      <th>573</th>\n",
       "      <td>Bangalore</td>\n",
       "    </tr>\n",
       "    <tr>\n",
       "      <th>574</th>\n",
       "      <td>Delhi</td>\n",
       "    </tr>\n",
       "    <tr>\n",
       "      <th>575</th>\n",
       "      <td>Delhi</td>\n",
       "    </tr>\n",
       "    <tr>\n",
       "      <th>576</th>\n",
       "      <td>Bangalore</td>\n",
       "    </tr>\n",
       "  </tbody>\n",
       "</table>\n",
       "<p>577 rows × 1 columns</p>\n",
       "</div>"
      ],
      "text/plain": [
       "           city\n",
       "0     Bangalore\n",
       "1    Chandigarh\n",
       "2         Delhi\n",
       "3        Mumbai\n",
       "4       Kolkata\n",
       "..          ...\n",
       "572      Raipur\n",
       "573   Bangalore\n",
       "574       Delhi\n",
       "575       Delhi\n",
       "576   Bangalore\n",
       "\n",
       "[577 rows x 1 columns]"
      ]
     },
     "execution_count": 7,
     "metadata": {},
     "output_type": "execute_result"
    }
   ],
   "source": [
    "df[['city']]"
   ]
  },
  {
   "cell_type": "code",
   "execution_count": 8,
   "id": "30a5be9f-65ef-46f4-9919-6aed4fcd4af7",
   "metadata": {},
   "outputs": [
    {
     "data": {
      "text/html": [
       "<div>\n",
       "<style scoped>\n",
       "    .dataframe tbody tr th:only-of-type {\n",
       "        vertical-align: middle;\n",
       "    }\n",
       "\n",
       "    .dataframe tbody tr th {\n",
       "        vertical-align: top;\n",
       "    }\n",
       "\n",
       "    .dataframe thead th {\n",
       "        text-align: right;\n",
       "    }\n",
       "</style>\n",
       "<table border=\"1\" class=\"dataframe\">\n",
       "  <thead>\n",
       "    <tr style=\"text-align: right;\">\n",
       "      <th></th>\n",
       "      <th>Unnamed: 0.1</th>\n",
       "      <th>Unnamed: 0</th>\n",
       "      <th>id</th>\n",
       "      <th>season</th>\n",
       "      <th>dl_applied</th>\n",
       "      <th>win_by_runs</th>\n",
       "      <th>win_by_wickets</th>\n",
       "      <th>umpire3</th>\n",
       "      <th>points</th>\n",
       "      <th>Dream_points</th>\n",
       "    </tr>\n",
       "  </thead>\n",
       "  <tbody>\n",
       "    <tr>\n",
       "      <th>count</th>\n",
       "      <td>577.000000</td>\n",
       "      <td>0.0</td>\n",
       "      <td>577.000000</td>\n",
       "      <td>577.000000</td>\n",
       "      <td>577.000000</td>\n",
       "      <td>577.000000</td>\n",
       "      <td>577.000000</td>\n",
       "      <td>0.0</td>\n",
       "      <td>577.0</td>\n",
       "      <td>577.000000</td>\n",
       "    </tr>\n",
       "    <tr>\n",
       "      <th>mean</th>\n",
       "      <td>288.000000</td>\n",
       "      <td>NaN</td>\n",
       "      <td>289.000000</td>\n",
       "      <td>2012.029463</td>\n",
       "      <td>0.025997</td>\n",
       "      <td>13.715771</td>\n",
       "      <td>3.363951</td>\n",
       "      <td>NaN</td>\n",
       "      <td>0.0</td>\n",
       "      <td>17.079723</td>\n",
       "    </tr>\n",
       "    <tr>\n",
       "      <th>std</th>\n",
       "      <td>166.709828</td>\n",
       "      <td>NaN</td>\n",
       "      <td>166.709828</td>\n",
       "      <td>2.486247</td>\n",
       "      <td>0.159263</td>\n",
       "      <td>23.619282</td>\n",
       "      <td>3.416049</td>\n",
       "      <td>NaN</td>\n",
       "      <td>0.0</td>\n",
       "      <td>21.842648</td>\n",
       "    </tr>\n",
       "    <tr>\n",
       "      <th>min</th>\n",
       "      <td>0.000000</td>\n",
       "      <td>NaN</td>\n",
       "      <td>1.000000</td>\n",
       "      <td>2008.000000</td>\n",
       "      <td>0.000000</td>\n",
       "      <td>0.000000</td>\n",
       "      <td>0.000000</td>\n",
       "      <td>NaN</td>\n",
       "      <td>0.0</td>\n",
       "      <td>0.000000</td>\n",
       "    </tr>\n",
       "    <tr>\n",
       "      <th>25%</th>\n",
       "      <td>144.000000</td>\n",
       "      <td>NaN</td>\n",
       "      <td>145.000000</td>\n",
       "      <td>2010.000000</td>\n",
       "      <td>0.000000</td>\n",
       "      <td>0.000000</td>\n",
       "      <td>0.000000</td>\n",
       "      <td>NaN</td>\n",
       "      <td>0.0</td>\n",
       "      <td>6.000000</td>\n",
       "    </tr>\n",
       "    <tr>\n",
       "      <th>50%</th>\n",
       "      <td>288.000000</td>\n",
       "      <td>NaN</td>\n",
       "      <td>289.000000</td>\n",
       "      <td>2012.000000</td>\n",
       "      <td>0.000000</td>\n",
       "      <td>0.000000</td>\n",
       "      <td>3.000000</td>\n",
       "      <td>NaN</td>\n",
       "      <td>0.0</td>\n",
       "      <td>8.000000</td>\n",
       "    </tr>\n",
       "    <tr>\n",
       "      <th>75%</th>\n",
       "      <td>432.000000</td>\n",
       "      <td>NaN</td>\n",
       "      <td>433.000000</td>\n",
       "      <td>2014.000000</td>\n",
       "      <td>0.000000</td>\n",
       "      <td>20.000000</td>\n",
       "      <td>6.000000</td>\n",
       "      <td>NaN</td>\n",
       "      <td>0.0</td>\n",
       "      <td>20.000000</td>\n",
       "    </tr>\n",
       "    <tr>\n",
       "      <th>max</th>\n",
       "      <td>576.000000</td>\n",
       "      <td>NaN</td>\n",
       "      <td>577.000000</td>\n",
       "      <td>2016.000000</td>\n",
       "      <td>1.000000</td>\n",
       "      <td>144.000000</td>\n",
       "      <td>10.000000</td>\n",
       "      <td>NaN</td>\n",
       "      <td>0.0</td>\n",
       "      <td>144.000000</td>\n",
       "    </tr>\n",
       "  </tbody>\n",
       "</table>\n",
       "</div>"
      ],
      "text/plain": [
       "       Unnamed: 0.1  Unnamed: 0          id       season  dl_applied  \\\n",
       "count    577.000000         0.0  577.000000   577.000000  577.000000   \n",
       "mean     288.000000         NaN  289.000000  2012.029463    0.025997   \n",
       "std      166.709828         NaN  166.709828     2.486247    0.159263   \n",
       "min        0.000000         NaN    1.000000  2008.000000    0.000000   \n",
       "25%      144.000000         NaN  145.000000  2010.000000    0.000000   \n",
       "50%      288.000000         NaN  289.000000  2012.000000    0.000000   \n",
       "75%      432.000000         NaN  433.000000  2014.000000    0.000000   \n",
       "max      576.000000         NaN  577.000000  2016.000000    1.000000   \n",
       "\n",
       "       win_by_runs  win_by_wickets  umpire3  points  Dream_points  \n",
       "count   577.000000      577.000000      0.0   577.0    577.000000  \n",
       "mean     13.715771        3.363951      NaN     0.0     17.079723  \n",
       "std      23.619282        3.416049      NaN     0.0     21.842648  \n",
       "min       0.000000        0.000000      NaN     0.0      0.000000  \n",
       "25%       0.000000        0.000000      NaN     0.0      6.000000  \n",
       "50%       0.000000        3.000000      NaN     0.0      8.000000  \n",
       "75%      20.000000        6.000000      NaN     0.0     20.000000  \n",
       "max     144.000000       10.000000      NaN     0.0    144.000000  "
      ]
     },
     "execution_count": 8,
     "metadata": {},
     "output_type": "execute_result"
    }
   ],
   "source": [
    "df.describe()"
   ]
  },
  {
   "cell_type": "code",
   "execution_count": 9,
   "id": "2bf24f11-3064-4b8b-aded-6a9ec80bf90e",
   "metadata": {},
   "outputs": [],
   "source": [
    "df.set_index('id',inplace=True)\n"
   ]
  },
  {
   "cell_type": "code",
   "execution_count": 10,
   "id": "50cc70f9-123d-468e-8e9c-d846407868a2",
   "metadata": {},
   "outputs": [
    {
     "data": {
      "text/html": [
       "<div>\n",
       "<style scoped>\n",
       "    .dataframe tbody tr th:only-of-type {\n",
       "        vertical-align: middle;\n",
       "    }\n",
       "\n",
       "    .dataframe tbody tr th {\n",
       "        vertical-align: top;\n",
       "    }\n",
       "\n",
       "    .dataframe thead th {\n",
       "        text-align: right;\n",
       "    }\n",
       "</style>\n",
       "<table border=\"1\" class=\"dataframe\">\n",
       "  <thead>\n",
       "    <tr style=\"text-align: right;\">\n",
       "      <th></th>\n",
       "      <th>Unnamed: 0.1</th>\n",
       "      <th>Unnamed: 0</th>\n",
       "      <th>season</th>\n",
       "      <th>city</th>\n",
       "      <th>date</th>\n",
       "      <th>team1</th>\n",
       "      <th>team2</th>\n",
       "      <th>toss_winner</th>\n",
       "      <th>toss_decision</th>\n",
       "      <th>result</th>\n",
       "      <th>...</th>\n",
       "      <th>winner</th>\n",
       "      <th>win_by_runs</th>\n",
       "      <th>win_by_wickets</th>\n",
       "      <th>player_of_match</th>\n",
       "      <th>venue</th>\n",
       "      <th>umpire1</th>\n",
       "      <th>umpire2</th>\n",
       "      <th>umpire3</th>\n",
       "      <th>points</th>\n",
       "      <th>Dream_points</th>\n",
       "    </tr>\n",
       "    <tr>\n",
       "      <th>id</th>\n",
       "      <th></th>\n",
       "      <th></th>\n",
       "      <th></th>\n",
       "      <th></th>\n",
       "      <th></th>\n",
       "      <th></th>\n",
       "      <th></th>\n",
       "      <th></th>\n",
       "      <th></th>\n",
       "      <th></th>\n",
       "      <th></th>\n",
       "      <th></th>\n",
       "      <th></th>\n",
       "      <th></th>\n",
       "      <th></th>\n",
       "      <th></th>\n",
       "      <th></th>\n",
       "      <th></th>\n",
       "      <th></th>\n",
       "      <th></th>\n",
       "      <th></th>\n",
       "    </tr>\n",
       "  </thead>\n",
       "  <tbody>\n",
       "    <tr>\n",
       "      <th>1</th>\n",
       "      <td>0</td>\n",
       "      <td>NaN</td>\n",
       "      <td>2008</td>\n",
       "      <td>Bangalore</td>\n",
       "      <td>2008-04-18</td>\n",
       "      <td>Kolkata Knight Riders</td>\n",
       "      <td>Royal Challengers Bangalore</td>\n",
       "      <td>Royal Challengers Bangalore</td>\n",
       "      <td>field</td>\n",
       "      <td>normal</td>\n",
       "      <td>...</td>\n",
       "      <td>Kolkata Knight Riders</td>\n",
       "      <td>140</td>\n",
       "      <td>0</td>\n",
       "      <td>BB McCullum</td>\n",
       "      <td>M Chinnaswamy Stadium</td>\n",
       "      <td>Asad Rauf</td>\n",
       "      <td>RE Koertzen</td>\n",
       "      <td>NaN</td>\n",
       "      <td>0</td>\n",
       "      <td>140</td>\n",
       "    </tr>\n",
       "    <tr>\n",
       "      <th>2</th>\n",
       "      <td>1</td>\n",
       "      <td>NaN</td>\n",
       "      <td>2008</td>\n",
       "      <td>Chandigarh</td>\n",
       "      <td>2008-04-19</td>\n",
       "      <td>Chennai Super Kings</td>\n",
       "      <td>Kings XI Punjab</td>\n",
       "      <td>Chennai Super Kings</td>\n",
       "      <td>bat</td>\n",
       "      <td>normal</td>\n",
       "      <td>...</td>\n",
       "      <td>Chennai Super Kings</td>\n",
       "      <td>33</td>\n",
       "      <td>0</td>\n",
       "      <td>MEK Hussey</td>\n",
       "      <td>Punjab Cricket Association Stadium, Mohali</td>\n",
       "      <td>MR Benson</td>\n",
       "      <td>SL Shastri</td>\n",
       "      <td>NaN</td>\n",
       "      <td>0</td>\n",
       "      <td>33</td>\n",
       "    </tr>\n",
       "    <tr>\n",
       "      <th>3</th>\n",
       "      <td>2</td>\n",
       "      <td>NaN</td>\n",
       "      <td>2008</td>\n",
       "      <td>Delhi</td>\n",
       "      <td>2008-04-19</td>\n",
       "      <td>Rajasthan Royals</td>\n",
       "      <td>Delhi Daredevils</td>\n",
       "      <td>Rajasthan Royals</td>\n",
       "      <td>bat</td>\n",
       "      <td>normal</td>\n",
       "      <td>...</td>\n",
       "      <td>Delhi Daredevils</td>\n",
       "      <td>0</td>\n",
       "      <td>9</td>\n",
       "      <td>MF Maharoof</td>\n",
       "      <td>Feroz Shah Kotla</td>\n",
       "      <td>Aleem Dar</td>\n",
       "      <td>GA Pratapkumar</td>\n",
       "      <td>NaN</td>\n",
       "      <td>0</td>\n",
       "      <td>9</td>\n",
       "    </tr>\n",
       "    <tr>\n",
       "      <th>4</th>\n",
       "      <td>3</td>\n",
       "      <td>NaN</td>\n",
       "      <td>2008</td>\n",
       "      <td>Mumbai</td>\n",
       "      <td>2008-04-20</td>\n",
       "      <td>Mumbai Indians</td>\n",
       "      <td>Royal Challengers Bangalore</td>\n",
       "      <td>Mumbai Indians</td>\n",
       "      <td>bat</td>\n",
       "      <td>normal</td>\n",
       "      <td>...</td>\n",
       "      <td>Royal Challengers Bangalore</td>\n",
       "      <td>0</td>\n",
       "      <td>5</td>\n",
       "      <td>MV Boucher</td>\n",
       "      <td>Wankhede Stadium</td>\n",
       "      <td>SJ Davis</td>\n",
       "      <td>DJ Harper</td>\n",
       "      <td>NaN</td>\n",
       "      <td>0</td>\n",
       "      <td>5</td>\n",
       "    </tr>\n",
       "    <tr>\n",
       "      <th>5</th>\n",
       "      <td>4</td>\n",
       "      <td>NaN</td>\n",
       "      <td>2008</td>\n",
       "      <td>Kolkata</td>\n",
       "      <td>2008-04-20</td>\n",
       "      <td>Deccan Chargers</td>\n",
       "      <td>Kolkata Knight Riders</td>\n",
       "      <td>Deccan Chargers</td>\n",
       "      <td>bat</td>\n",
       "      <td>normal</td>\n",
       "      <td>...</td>\n",
       "      <td>Kolkata Knight Riders</td>\n",
       "      <td>0</td>\n",
       "      <td>5</td>\n",
       "      <td>DJ Hussey</td>\n",
       "      <td>Eden Gardens</td>\n",
       "      <td>BF Bowden</td>\n",
       "      <td>K Hariharan</td>\n",
       "      <td>NaN</td>\n",
       "      <td>0</td>\n",
       "      <td>5</td>\n",
       "    </tr>\n",
       "  </tbody>\n",
       "</table>\n",
       "<p>5 rows × 21 columns</p>\n",
       "</div>"
      ],
      "text/plain": [
       "    Unnamed: 0.1  Unnamed: 0  season        city        date  \\\n",
       "id                                                             \n",
       "1              0         NaN    2008   Bangalore  2008-04-18   \n",
       "2              1         NaN    2008  Chandigarh  2008-04-19   \n",
       "3              2         NaN    2008       Delhi  2008-04-19   \n",
       "4              3         NaN    2008      Mumbai  2008-04-20   \n",
       "5              4         NaN    2008     Kolkata  2008-04-20   \n",
       "\n",
       "                    team1                        team2  \\\n",
       "id                                                       \n",
       "1   Kolkata Knight Riders  Royal Challengers Bangalore   \n",
       "2     Chennai Super Kings              Kings XI Punjab   \n",
       "3        Rajasthan Royals             Delhi Daredevils   \n",
       "4          Mumbai Indians  Royal Challengers Bangalore   \n",
       "5         Deccan Chargers        Kolkata Knight Riders   \n",
       "\n",
       "                    toss_winner toss_decision  result  ...  \\\n",
       "id                                                     ...   \n",
       "1   Royal Challengers Bangalore         field  normal  ...   \n",
       "2           Chennai Super Kings           bat  normal  ...   \n",
       "3              Rajasthan Royals           bat  normal  ...   \n",
       "4                Mumbai Indians           bat  normal  ...   \n",
       "5               Deccan Chargers           bat  normal  ...   \n",
       "\n",
       "                         winner win_by_runs  win_by_wickets  player_of_match  \\\n",
       "id                                                                             \n",
       "1         Kolkata Knight Riders         140               0      BB McCullum   \n",
       "2           Chennai Super Kings          33               0       MEK Hussey   \n",
       "3              Delhi Daredevils           0               9      MF Maharoof   \n",
       "4   Royal Challengers Bangalore           0               5       MV Boucher   \n",
       "5         Kolkata Knight Riders           0               5        DJ Hussey   \n",
       "\n",
       "                                         venue    umpire1         umpire2  \\\n",
       "id                                                                          \n",
       "1                        M Chinnaswamy Stadium  Asad Rauf     RE Koertzen   \n",
       "2   Punjab Cricket Association Stadium, Mohali  MR Benson      SL Shastri   \n",
       "3                             Feroz Shah Kotla  Aleem Dar  GA Pratapkumar   \n",
       "4                             Wankhede Stadium   SJ Davis       DJ Harper   \n",
       "5                                 Eden Gardens  BF Bowden     K Hariharan   \n",
       "\n",
       "   umpire3  points  Dream_points  \n",
       "id                                \n",
       "1      NaN       0           140  \n",
       "2      NaN       0            33  \n",
       "3      NaN       0             9  \n",
       "4      NaN       0             5  \n",
       "5      NaN       0             5  \n",
       "\n",
       "[5 rows x 21 columns]"
      ]
     },
     "execution_count": 10,
     "metadata": {},
     "output_type": "execute_result"
    }
   ],
   "source": [
    "df.head()"
   ]
  },
  {
   "cell_type": "code",
   "execution_count": 11,
   "id": "2c0df3bd-3f37-4f46-85e6-50a9926a2b0a",
   "metadata": {},
   "outputs": [
    {
     "name": "stdout",
     "output_type": "stream",
     "text": [
      "Q_2_ANS:- \n"
     ]
    }
   ],
   "source": [
    "print(\"Q_2_ANS:- \")"
   ]
  },
  {
   "cell_type": "code",
   "execution_count": 12,
   "id": "7ebca5ab-a006-486c-9a44-e0caa5d42fc6",
   "metadata": {},
   "outputs": [],
   "source": [
    " df1 = pd.DataFrame( {'A':[78,85,96,80,86], 'B':[84,94,89,83,86],'C':[86,97,96,72,83]},index=[1,2,3,4,5])"
   ]
  },
  {
   "cell_type": "code",
   "execution_count": 13,
   "id": "7785a05e-a0d1-4313-b65b-00b1619dbcf3",
   "metadata": {},
   "outputs": [
    {
     "data": {
      "text/html": [
       "<div>\n",
       "<style scoped>\n",
       "    .dataframe tbody tr th:only-of-type {\n",
       "        vertical-align: middle;\n",
       "    }\n",
       "\n",
       "    .dataframe tbody tr th {\n",
       "        vertical-align: top;\n",
       "    }\n",
       "\n",
       "    .dataframe thead th {\n",
       "        text-align: right;\n",
       "    }\n",
       "</style>\n",
       "<table border=\"1\" class=\"dataframe\">\n",
       "  <thead>\n",
       "    <tr style=\"text-align: right;\">\n",
       "      <th></th>\n",
       "      <th>A</th>\n",
       "      <th>B</th>\n",
       "      <th>C</th>\n",
       "    </tr>\n",
       "  </thead>\n",
       "  <tbody>\n",
       "    <tr>\n",
       "      <th>1</th>\n",
       "      <td>78</td>\n",
       "      <td>84</td>\n",
       "      <td>86</td>\n",
       "    </tr>\n",
       "    <tr>\n",
       "      <th>2</th>\n",
       "      <td>85</td>\n",
       "      <td>94</td>\n",
       "      <td>97</td>\n",
       "    </tr>\n",
       "    <tr>\n",
       "      <th>3</th>\n",
       "      <td>96</td>\n",
       "      <td>89</td>\n",
       "      <td>96</td>\n",
       "    </tr>\n",
       "    <tr>\n",
       "      <th>4</th>\n",
       "      <td>80</td>\n",
       "      <td>83</td>\n",
       "      <td>72</td>\n",
       "    </tr>\n",
       "    <tr>\n",
       "      <th>5</th>\n",
       "      <td>86</td>\n",
       "      <td>86</td>\n",
       "      <td>83</td>\n",
       "    </tr>\n",
       "  </tbody>\n",
       "</table>\n",
       "</div>"
      ],
      "text/plain": [
       "    A   B   C\n",
       "1  78  84  86\n",
       "2  85  94  97\n",
       "3  96  89  96\n",
       "4  80  83  72\n",
       "5  86  86  83"
      ]
     },
     "execution_count": 13,
     "metadata": {},
     "output_type": "execute_result"
    }
   ],
   "source": [
    "df1"
   ]
  },
  {
   "cell_type": "code",
   "execution_count": 14,
   "id": "10b8f183-eccd-431f-9fc5-116e98515ad8",
   "metadata": {},
   "outputs": [
    {
     "data": {
      "text/html": [
       "<div>\n",
       "<style scoped>\n",
       "    .dataframe tbody tr th:only-of-type {\n",
       "        vertical-align: middle;\n",
       "    }\n",
       "\n",
       "    .dataframe tbody tr th {\n",
       "        vertical-align: top;\n",
       "    }\n",
       "\n",
       "    .dataframe thead th {\n",
       "        text-align: right;\n",
       "    }\n",
       "</style>\n",
       "<table border=\"1\" class=\"dataframe\">\n",
       "  <thead>\n",
       "    <tr style=\"text-align: right;\">\n",
       "      <th></th>\n",
       "      <th>A</th>\n",
       "      <th>B</th>\n",
       "      <th>C</th>\n",
       "    </tr>\n",
       "  </thead>\n",
       "  <tbody>\n",
       "    <tr>\n",
       "      <th>1</th>\n",
       "      <td>78</td>\n",
       "      <td>84</td>\n",
       "      <td>86</td>\n",
       "    </tr>\n",
       "    <tr>\n",
       "      <th>3</th>\n",
       "      <td>96</td>\n",
       "      <td>89</td>\n",
       "      <td>96</td>\n",
       "    </tr>\n",
       "    <tr>\n",
       "      <th>5</th>\n",
       "      <td>86</td>\n",
       "      <td>86</td>\n",
       "      <td>83</td>\n",
       "    </tr>\n",
       "    <tr>\n",
       "      <th>2</th>\n",
       "      <td>85</td>\n",
       "      <td>94</td>\n",
       "      <td>97</td>\n",
       "    </tr>\n",
       "    <tr>\n",
       "      <th>4</th>\n",
       "      <td>80</td>\n",
       "      <td>83</td>\n",
       "      <td>72</td>\n",
       "    </tr>\n",
       "  </tbody>\n",
       "</table>\n",
       "</div>"
      ],
      "text/plain": [
       "    A   B   C\n",
       "1  78  84  86\n",
       "3  96  89  96\n",
       "5  86  86  83\n",
       "2  85  94  97\n",
       "4  80  83  72"
      ]
     },
     "execution_count": 14,
     "metadata": {},
     "output_type": "execute_result"
    }
   ],
   "source": [
    " df1.reindex([1,3,5,2,4])\n"
   ]
  },
  {
   "cell_type": "code",
   "execution_count": 15,
   "id": "43e3e336-516a-472f-8722-a8a4b6d06f0d",
   "metadata": {},
   "outputs": [
    {
     "name": "stdout",
     "output_type": "stream",
     "text": [
      "Q_3_ANS:- \n"
     ]
    }
   ],
   "source": [
    "print(\"Q_3_ANS:- \")"
   ]
  },
  {
   "cell_type": "code",
   "execution_count": 16,
   "id": "4164c526-22a4-4689-b092-c8fb19428a84",
   "metadata": {},
   "outputs": [],
   "source": [
    "df2 = pd.DataFrame( {'values':[10,20,30,40,50]})"
   ]
  },
  {
   "cell_type": "code",
   "execution_count": 17,
   "id": "b6bbdcd3-74ba-495a-acfb-c2b0fe9fa066",
   "metadata": {},
   "outputs": [
    {
     "data": {
      "text/html": [
       "<div>\n",
       "<style scoped>\n",
       "    .dataframe tbody tr th:only-of-type {\n",
       "        vertical-align: middle;\n",
       "    }\n",
       "\n",
       "    .dataframe tbody tr th {\n",
       "        vertical-align: top;\n",
       "    }\n",
       "\n",
       "    .dataframe thead th {\n",
       "        text-align: right;\n",
       "    }\n",
       "</style>\n",
       "<table border=\"1\" class=\"dataframe\">\n",
       "  <thead>\n",
       "    <tr style=\"text-align: right;\">\n",
       "      <th></th>\n",
       "      <th>values</th>\n",
       "    </tr>\n",
       "  </thead>\n",
       "  <tbody>\n",
       "    <tr>\n",
       "      <th>0</th>\n",
       "      <td>10</td>\n",
       "    </tr>\n",
       "    <tr>\n",
       "      <th>1</th>\n",
       "      <td>20</td>\n",
       "    </tr>\n",
       "    <tr>\n",
       "      <th>2</th>\n",
       "      <td>30</td>\n",
       "    </tr>\n",
       "    <tr>\n",
       "      <th>3</th>\n",
       "      <td>40</td>\n",
       "    </tr>\n",
       "    <tr>\n",
       "      <th>4</th>\n",
       "      <td>50</td>\n",
       "    </tr>\n",
       "  </tbody>\n",
       "</table>\n",
       "</div>"
      ],
      "text/plain": [
       "   values\n",
       "0      10\n",
       "1      20\n",
       "2      30\n",
       "3      40\n",
       "4      50"
      ]
     },
     "execution_count": 17,
     "metadata": {},
     "output_type": "execute_result"
    }
   ],
   "source": [
    "df2"
   ]
  },
  {
   "cell_type": "code",
   "execution_count": 47,
   "id": "41225b65-8df2-47e3-adf5-539f922b2577",
   "metadata": {},
   "outputs": [
    {
     "data": {
      "text/plain": [
       "0      NaN\n",
       "1      NaN\n",
       "2     60.0\n",
       "3     90.0\n",
       "4    120.0\n",
       "Name: values, dtype: float64"
      ]
     },
     "execution_count": 47,
     "metadata": {},
     "output_type": "execute_result"
    }
   ],
   "source": [
    "df2['values'].rolling(window=3).sum()"
   ]
  },
  {
   "cell_type": "code",
   "execution_count": 48,
   "id": "72b9c6f3-b056-413d-a38b-0d50ef9a1a29",
   "metadata": {},
   "outputs": [
    {
     "name": "stdout",
     "output_type": "stream",
     "text": [
      "Q_4_ANS:- \n"
     ]
    }
   ],
   "source": [
    "print(\"Q_4_ANS:- \")"
   ]
  },
  {
   "cell_type": "code",
   "execution_count": 63,
   "id": "cb22bf2a-abc6-4cb7-b687-7f881e525da7",
   "metadata": {},
   "outputs": [],
   "source": [
    "df3 = pd.DataFrame({\"Text\":[\"Data Science Masters course is highly curated and uniquely designed according to the latest industry standards. This program instills students the skills essential to knowledge discovery efforts to identify standard, novel, and truly differentiated solutions and decision-making, including skills in managing, querying, analyzing, visualizing, and extracting meaning from extremely large data sets. This trending program provides students with the statistical, mathematical and computational skills needed to meet the large-scale data science challenges of today's professional world. You will learn all the stack required to work in data science industry including cloud infrastructure and real-time industry projects. This course will be taught in Hindi language.\",\"I am a data scientist\",\"I want to become a blockchain developer\"]})"
   ]
  },
  {
   "cell_type": "code",
   "execution_count": 64,
   "id": "2c87595b-cea8-421c-9c67-eb2f7b4dfa2b",
   "metadata": {},
   "outputs": [
    {
     "data": {
      "text/html": [
       "<div>\n",
       "<style scoped>\n",
       "    .dataframe tbody tr th:only-of-type {\n",
       "        vertical-align: middle;\n",
       "    }\n",
       "\n",
       "    .dataframe tbody tr th {\n",
       "        vertical-align: top;\n",
       "    }\n",
       "\n",
       "    .dataframe thead th {\n",
       "        text-align: right;\n",
       "    }\n",
       "</style>\n",
       "<table border=\"1\" class=\"dataframe\">\n",
       "  <thead>\n",
       "    <tr style=\"text-align: right;\">\n",
       "      <th></th>\n",
       "      <th>Text</th>\n",
       "    </tr>\n",
       "  </thead>\n",
       "  <tbody>\n",
       "    <tr>\n",
       "      <th>0</th>\n",
       "      <td>Data Science Masters course is highly curated ...</td>\n",
       "    </tr>\n",
       "    <tr>\n",
       "      <th>1</th>\n",
       "      <td>I am a data scientist</td>\n",
       "    </tr>\n",
       "    <tr>\n",
       "      <th>2</th>\n",
       "      <td>I want to become a blockchain developer</td>\n",
       "    </tr>\n",
       "  </tbody>\n",
       "</table>\n",
       "</div>"
      ],
      "text/plain": [
       "                                                Text\n",
       "0  Data Science Masters course is highly curated ...\n",
       "1                              I am a data scientist\n",
       "2            I want to become a blockchain developer"
      ]
     },
     "execution_count": 64,
     "metadata": {},
     "output_type": "execute_result"
    }
   ],
   "source": [
    "df3"
   ]
  },
  {
   "cell_type": "code",
   "execution_count": 65,
   "id": "f0a18b17-a518-4eb6-9b2a-b8770ee8b22b",
   "metadata": {},
   "outputs": [],
   "source": [
    "df3['Word_Count'] = df3['Text'].apply(lambda x :len(x.split()))"
   ]
  },
  {
   "cell_type": "code",
   "execution_count": 66,
   "id": "4b6c7f7f-8355-4eda-bdde-5fa46b044a41",
   "metadata": {},
   "outputs": [
    {
     "data": {
      "text/html": [
       "<div>\n",
       "<style scoped>\n",
       "    .dataframe tbody tr th:only-of-type {\n",
       "        vertical-align: middle;\n",
       "    }\n",
       "\n",
       "    .dataframe tbody tr th {\n",
       "        vertical-align: top;\n",
       "    }\n",
       "\n",
       "    .dataframe thead th {\n",
       "        text-align: right;\n",
       "    }\n",
       "</style>\n",
       "<table border=\"1\" class=\"dataframe\">\n",
       "  <thead>\n",
       "    <tr style=\"text-align: right;\">\n",
       "      <th></th>\n",
       "      <th>Text</th>\n",
       "      <th>Word_Count</th>\n",
       "    </tr>\n",
       "  </thead>\n",
       "  <tbody>\n",
       "    <tr>\n",
       "      <th>0</th>\n",
       "      <td>Data Science Masters course is highly curated ...</td>\n",
       "      <td>104</td>\n",
       "    </tr>\n",
       "    <tr>\n",
       "      <th>1</th>\n",
       "      <td>I am a data scientist</td>\n",
       "      <td>5</td>\n",
       "    </tr>\n",
       "    <tr>\n",
       "      <th>2</th>\n",
       "      <td>I want to become a blockchain developer</td>\n",
       "      <td>7</td>\n",
       "    </tr>\n",
       "  </tbody>\n",
       "</table>\n",
       "</div>"
      ],
      "text/plain": [
       "                                                Text  Word_Count\n",
       "0  Data Science Masters course is highly curated ...         104\n",
       "1                              I am a data scientist           5\n",
       "2            I want to become a blockchain developer           7"
      ]
     },
     "execution_count": 66,
     "metadata": {},
     "output_type": "execute_result"
    }
   ],
   "source": [
    "df3"
   ]
  },
  {
   "cell_type": "code",
   "execution_count": 77,
   "id": "3df824ce-6be0-4f2b-bb15-81a2d078368e",
   "metadata": {},
   "outputs": [
    {
     "name": "stdout",
     "output_type": "stream",
     "text": [
      "Q_5_ANS:- Size and shape of a dataframe in pandas python: Size of a dataframe is the number of fields in the dataframe which is nothing but number of rows * number of columns. Shape of a dataframe gets the number of rows and number of columns of the dataframe.\n",
      "\n",
      "Lets see on how to\n",
      "\n",
      "Get the Size of the dataframe in pandas python.\n",
      "Get the shape of the dataframe in pandas python.\n",
      "\n",
      "Get size of the dataframe in pandas python:\n",
      "\n",
      "df3.size\n",
      "\n",
      "Result:\n",
      "6\n",
      "\n",
      "Get shape of the dataframe in pandas python:\n",
      "\n",
      "df3.shape\n",
      "\n",
      "Result:\n",
      "(3, 2)\n"
     ]
    }
   ],
   "source": [
    "print(\"Q_5_ANS:- Size and shape of a dataframe in pandas python: Size of a dataframe is the number of fields in the dataframe which is nothing but number of rows * number of columns. Shape of a dataframe gets the number of rows and number of columns of the dataframe.\\n\\nLets see on how to\\n\\nGet the Size of the dataframe in pandas python.\\nGet the shape of the dataframe in pandas python.\\n\\nGet size of the dataframe in pandas python:\\n\\ndf3.size\\n\\nResult:\\n6\\n\\nGet shape of the dataframe in pandas python:\\n\\ndf3.shape\\n\\nResult:\\n(3, 2)\")"
   ]
  },
  {
   "cell_type": "code",
   "execution_count": 73,
   "id": "04ee88b0-4a95-4e9d-b00b-82dda01eb2d6",
   "metadata": {},
   "outputs": [
    {
     "data": {
      "text/plain": [
       "6"
      ]
     },
     "execution_count": 73,
     "metadata": {},
     "output_type": "execute_result"
    }
   ],
   "source": [
    "df3.size"
   ]
  },
  {
   "cell_type": "code",
   "execution_count": 74,
   "id": "da17d849-36f2-4315-a833-3403dbaaae61",
   "metadata": {},
   "outputs": [
    {
     "data": {
      "text/plain": [
       "(3, 2)"
      ]
     },
     "execution_count": 74,
     "metadata": {},
     "output_type": "execute_result"
    }
   ],
   "source": [
    "df3.shape"
   ]
  },
  {
   "cell_type": "code",
   "execution_count": 81,
   "id": "2f247cfc-ca52-4456-8b0e-9b94856c7110",
   "metadata": {},
   "outputs": [
    {
     "name": "stdout",
     "output_type": "stream",
     "text": [
      "Q_6_ANS:- Pandas read_excel() function is used for reading the excel files. Files can be imported using a URL link or can be directly imported from the disk. There are different parameters like io for path,sheet_name for specifying the name of the sheet, etc. for reading the file.\n",
      "\n",
      "Syntex:\n",
      "\n",
      "df = pd.read_exel('File_name') \n"
     ]
    }
   ],
   "source": [
    "print(\"Q_6_ANS:- Pandas read_excel() function is used for reading the excel files. Files can be imported using a URL link or can be directly imported from the disk. There are different parameters like io for path,sheet_name for specifying the name of the sheet, etc. for reading the file.\\n\\nSyntex:\\n\\ndf = pd.read_exel('File_name') \")"
   ]
  },
  {
   "cell_type": "code",
   "execution_count": 82,
   "id": "3ea36063-f7fe-4abf-b326-13976c8e0cd5",
   "metadata": {},
   "outputs": [
    {
     "name": "stdout",
     "output_type": "stream",
     "text": [
      "Q_7_ANS:- \n"
     ]
    }
   ],
   "source": [
    "print(\"Q_7_ANS:- \")"
   ]
  },
  {
   "cell_type": "code",
   "execution_count": 83,
   "id": "5661ca89-dbc5-4afe-bba5-72948a0aae50",
   "metadata": {},
   "outputs": [],
   "source": [
    "df4 = pd.DataFrame({'Email': ['codebyyash0803@gmail.com', 'yashingle9021@yahoo.com', 'sumitagrawal456@gmail.com']})"
   ]
  },
  {
   "cell_type": "code",
   "execution_count": 84,
   "id": "c57c3997-0e7b-42cd-95db-78e4911d75aa",
   "metadata": {},
   "outputs": [
    {
     "data": {
      "text/html": [
       "<div>\n",
       "<style scoped>\n",
       "    .dataframe tbody tr th:only-of-type {\n",
       "        vertical-align: middle;\n",
       "    }\n",
       "\n",
       "    .dataframe tbody tr th {\n",
       "        vertical-align: top;\n",
       "    }\n",
       "\n",
       "    .dataframe thead th {\n",
       "        text-align: right;\n",
       "    }\n",
       "</style>\n",
       "<table border=\"1\" class=\"dataframe\">\n",
       "  <thead>\n",
       "    <tr style=\"text-align: right;\">\n",
       "      <th></th>\n",
       "      <th>Email</th>\n",
       "    </tr>\n",
       "  </thead>\n",
       "  <tbody>\n",
       "    <tr>\n",
       "      <th>0</th>\n",
       "      <td>codebyyash0803@gmail.com</td>\n",
       "    </tr>\n",
       "    <tr>\n",
       "      <th>1</th>\n",
       "      <td>yashingle9021@yahoo.com</td>\n",
       "    </tr>\n",
       "    <tr>\n",
       "      <th>2</th>\n",
       "      <td>sumitagrawal456@gmail.com</td>\n",
       "    </tr>\n",
       "  </tbody>\n",
       "</table>\n",
       "</div>"
      ],
      "text/plain": [
       "                       Email\n",
       "0   codebyyash0803@gmail.com\n",
       "1    yashingle9021@yahoo.com\n",
       "2  sumitagrawal456@gmail.com"
      ]
     },
     "execution_count": 84,
     "metadata": {},
     "output_type": "execute_result"
    }
   ],
   "source": [
    "df4"
   ]
  },
  {
   "cell_type": "code",
   "execution_count": 85,
   "id": "26412fdf-849b-40a6-99a6-30d04b3c4726",
   "metadata": {},
   "outputs": [],
   "source": [
    "df4['Username'] =df4.Email.str.extract(\"(.*)@\")"
   ]
  },
  {
   "cell_type": "code",
   "execution_count": 86,
   "id": "310efb1d-e20a-477d-817c-5de426ccee8b",
   "metadata": {},
   "outputs": [
    {
     "data": {
      "text/html": [
       "<div>\n",
       "<style scoped>\n",
       "    .dataframe tbody tr th:only-of-type {\n",
       "        vertical-align: middle;\n",
       "    }\n",
       "\n",
       "    .dataframe tbody tr th {\n",
       "        vertical-align: top;\n",
       "    }\n",
       "\n",
       "    .dataframe thead th {\n",
       "        text-align: right;\n",
       "    }\n",
       "</style>\n",
       "<table border=\"1\" class=\"dataframe\">\n",
       "  <thead>\n",
       "    <tr style=\"text-align: right;\">\n",
       "      <th></th>\n",
       "      <th>Email</th>\n",
       "      <th>Username</th>\n",
       "    </tr>\n",
       "  </thead>\n",
       "  <tbody>\n",
       "    <tr>\n",
       "      <th>0</th>\n",
       "      <td>codebyyash0803@gmail.com</td>\n",
       "      <td>codebyyash0803</td>\n",
       "    </tr>\n",
       "    <tr>\n",
       "      <th>1</th>\n",
       "      <td>yashingle9021@yahoo.com</td>\n",
       "      <td>yashingle9021</td>\n",
       "    </tr>\n",
       "    <tr>\n",
       "      <th>2</th>\n",
       "      <td>sumitagrawal456@gmail.com</td>\n",
       "      <td>sumitagrawal456</td>\n",
       "    </tr>\n",
       "  </tbody>\n",
       "</table>\n",
       "</div>"
      ],
      "text/plain": [
       "                       Email         Username\n",
       "0   codebyyash0803@gmail.com   codebyyash0803\n",
       "1    yashingle9021@yahoo.com    yashingle9021\n",
       "2  sumitagrawal456@gmail.com  sumitagrawal456"
      ]
     },
     "execution_count": 86,
     "metadata": {},
     "output_type": "execute_result"
    }
   ],
   "source": [
    "df4"
   ]
  },
  {
   "cell_type": "code",
   "execution_count": 91,
   "id": "c9038838-5baa-4abe-bd56-26ec34f3c839",
   "metadata": {},
   "outputs": [
    {
     "name": "stdout",
     "output_type": "stream",
     "text": [
      "Q_8_ANS:- \n"
     ]
    }
   ],
   "source": [
    "print(\"Q_8_ANS:- \")"
   ]
  },
  {
   "cell_type": "code",
   "execution_count": 297,
   "id": "99d29ed3-17de-4492-b829-9078e7c90acd",
   "metadata": {},
   "outputs": [],
   "source": [
    "data = pd.DataFrame({'A': [3,8,6,2,9],'B': [5,2,9,3,1],'C':[1,7,4,5,2]})"
   ]
  },
  {
   "cell_type": "code",
   "execution_count": 298,
   "id": "85ddff15-ee4b-47db-802d-9feeb83503cc",
   "metadata": {},
   "outputs": [
    {
     "data": {
      "text/html": [
       "<div>\n",
       "<style scoped>\n",
       "    .dataframe tbody tr th:only-of-type {\n",
       "        vertical-align: middle;\n",
       "    }\n",
       "\n",
       "    .dataframe tbody tr th {\n",
       "        vertical-align: top;\n",
       "    }\n",
       "\n",
       "    .dataframe thead th {\n",
       "        text-align: right;\n",
       "    }\n",
       "</style>\n",
       "<table border=\"1\" class=\"dataframe\">\n",
       "  <thead>\n",
       "    <tr style=\"text-align: right;\">\n",
       "      <th></th>\n",
       "      <th>A</th>\n",
       "      <th>B</th>\n",
       "      <th>C</th>\n",
       "    </tr>\n",
       "  </thead>\n",
       "  <tbody>\n",
       "    <tr>\n",
       "      <th>0</th>\n",
       "      <td>3</td>\n",
       "      <td>5</td>\n",
       "      <td>1</td>\n",
       "    </tr>\n",
       "    <tr>\n",
       "      <th>1</th>\n",
       "      <td>8</td>\n",
       "      <td>2</td>\n",
       "      <td>7</td>\n",
       "    </tr>\n",
       "    <tr>\n",
       "      <th>2</th>\n",
       "      <td>6</td>\n",
       "      <td>9</td>\n",
       "      <td>4</td>\n",
       "    </tr>\n",
       "    <tr>\n",
       "      <th>3</th>\n",
       "      <td>2</td>\n",
       "      <td>3</td>\n",
       "      <td>5</td>\n",
       "    </tr>\n",
       "    <tr>\n",
       "      <th>4</th>\n",
       "      <td>9</td>\n",
       "      <td>1</td>\n",
       "      <td>2</td>\n",
       "    </tr>\n",
       "  </tbody>\n",
       "</table>\n",
       "</div>"
      ],
      "text/plain": [
       "   A  B  C\n",
       "0  3  5  1\n",
       "1  8  2  7\n",
       "2  6  9  4\n",
       "3  2  3  5\n",
       "4  9  1  2"
      ]
     },
     "execution_count": 298,
     "metadata": {},
     "output_type": "execute_result"
    }
   ],
   "source": [
    "data"
   ]
  },
  {
   "cell_type": "code",
   "execution_count": 300,
   "id": "ca32002b-45ea-47f5-946b-7ed21a86aff8",
   "metadata": {},
   "outputs": [],
   "source": [
    "def test(x):\n",
    "    for i in x :\n",
    "        if i >5:\n",
    "            return i\n",
    "data1 = data[['A']].apply(test)"
   ]
  },
  {
   "cell_type": "code",
   "execution_count": 301,
   "id": "1c77f270-e93f-497d-ab69-5bf69bc501d6",
   "metadata": {},
   "outputs": [],
   "source": [
    "def test(x):\n",
    "    for i in x :\n",
    "        if i <5:\n",
    "            return i\n",
    "    \n",
    "data2 = data[['B']].apply(test)"
   ]
  },
  {
   "cell_type": "code",
   "execution_count": 302,
   "id": "27131d31-2f86-4095-8efc-20af12c77dc4",
   "metadata": {},
   "outputs": [],
   "source": [
    "def test(x):\n",
    "    for i in x :\n",
    "        if i >5:\n",
    "            return i\n",
    "    \n",
    "data3 = data[['C']].apply(test)"
   ]
  },
  {
   "cell_type": "code",
   "execution_count": 303,
   "id": "f05bed3b-7244-45ef-8dac-3ed9bce8686a",
   "metadata": {},
   "outputs": [],
   "source": [
    "def test(x):\n",
    "    for i in x :\n",
    "        if i == 9:\n",
    "            return i\n",
    "    \n",
    "data4 = data[['A']].apply(test)"
   ]
  },
  {
   "cell_type": "code",
   "execution_count": 304,
   "id": "bea71336-9c80-4700-8ea4-c2275e7d5ed9",
   "metadata": {},
   "outputs": [],
   "source": [
    "def test(x):\n",
    "    for i in x :\n",
    "        if i == 1:\n",
    "            return i\n",
    "    \n",
    "data5 = data[['B']].apply(test)"
   ]
  },
  {
   "cell_type": "code",
   "execution_count": 305,
   "id": "60044708-65f0-43f4-8917-f442c7782d9c",
   "metadata": {},
   "outputs": [],
   "source": [
    "def test(x):\n",
    "    for i in x :\n",
    "        if i == 2:\n",
    "            return i\n",
    "    \n",
    "data6 = data[['B']].apply(test)"
   ]
  },
  {
   "cell_type": "code",
   "execution_count": 310,
   "id": "136373d3-5e91-4088-8000-364c8f2ca105",
   "metadata": {},
   "outputs": [],
   "source": [
    "df5 = pd.DataFrame({'A':[data1[0],data4[0]],'B':[data2[0],data5[0]],'C':[data3[0],data6[0]]},index = [1,4])"
   ]
  },
  {
   "cell_type": "code",
   "execution_count": 311,
   "id": "10649eff-ad6a-4009-b41c-b854fd772192",
   "metadata": {},
   "outputs": [
    {
     "data": {
      "text/html": [
       "<div>\n",
       "<style scoped>\n",
       "    .dataframe tbody tr th:only-of-type {\n",
       "        vertical-align: middle;\n",
       "    }\n",
       "\n",
       "    .dataframe tbody tr th {\n",
       "        vertical-align: top;\n",
       "    }\n",
       "\n",
       "    .dataframe thead th {\n",
       "        text-align: right;\n",
       "    }\n",
       "</style>\n",
       "<table border=\"1\" class=\"dataframe\">\n",
       "  <thead>\n",
       "    <tr style=\"text-align: right;\">\n",
       "      <th></th>\n",
       "      <th>A</th>\n",
       "      <th>B</th>\n",
       "      <th>C</th>\n",
       "    </tr>\n",
       "  </thead>\n",
       "  <tbody>\n",
       "    <tr>\n",
       "      <th>1</th>\n",
       "      <td>8</td>\n",
       "      <td>2</td>\n",
       "      <td>7</td>\n",
       "    </tr>\n",
       "    <tr>\n",
       "      <th>4</th>\n",
       "      <td>9</td>\n",
       "      <td>1</td>\n",
       "      <td>2</td>\n",
       "    </tr>\n",
       "  </tbody>\n",
       "</table>\n",
       "</div>"
      ],
      "text/plain": [
       "   A  B  C\n",
       "1  8  2  7\n",
       "4  9  1  2"
      ]
     },
     "execution_count": 311,
     "metadata": {},
     "output_type": "execute_result"
    }
   ],
   "source": [
    "df5"
   ]
  },
  {
   "cell_type": "code",
   "execution_count": 312,
   "id": "8efbdd05-dfd3-4dda-872f-371c70f05468",
   "metadata": {},
   "outputs": [
    {
     "name": "stdout",
     "output_type": "stream",
     "text": [
      "Q_9_ANS:- \n"
     ]
    }
   ],
   "source": [
    "print(\"Q_9_ANS:- \")"
   ]
  },
  {
   "cell_type": "code",
   "execution_count": 313,
   "id": "7b809a3b-5f6a-46ba-90f3-db4f6a643082",
   "metadata": {},
   "outputs": [],
   "source": [
    "df6 = pd.DataFrame({'Values': [3,8,6,2,9]})"
   ]
  },
  {
   "cell_type": "code",
   "execution_count": 320,
   "id": "ce13f0db-5df4-47d4-939b-bf42f7fa2b36",
   "metadata": {},
   "outputs": [],
   "source": [
    "def m(x):\n",
    "    return x.mean()"
   ]
  },
  {
   "cell_type": "code",
   "execution_count": 321,
   "id": "17b827d6-9bfb-474e-a736-001013d7b9db",
   "metadata": {},
   "outputs": [
    {
     "data": {
      "text/plain": [
       "Values    5.6\n",
       "dtype: float64"
      ]
     },
     "execution_count": 321,
     "metadata": {},
     "output_type": "execute_result"
    }
   ],
   "source": [
    "df6.apply(m)"
   ]
  },
  {
   "cell_type": "code",
   "execution_count": 322,
   "id": "8531e0b7-87d7-4a45-9a2e-a396f0800425",
   "metadata": {},
   "outputs": [],
   "source": [
    "def s(x):\n",
    "    return x.std()"
   ]
  },
  {
   "cell_type": "code",
   "execution_count": 323,
   "id": "b42d01c7-2970-4a1b-8f48-4664b303dc97",
   "metadata": {},
   "outputs": [
    {
     "data": {
      "text/plain": [
       "Values    3.04959\n",
       "dtype: float64"
      ]
     },
     "execution_count": 323,
     "metadata": {},
     "output_type": "execute_result"
    }
   ],
   "source": [
    "df6.apply(s)"
   ]
  },
  {
   "cell_type": "code",
   "execution_count": 324,
   "id": "9a05c7d8-9e4e-465c-a9ee-8a99a6ec2c51",
   "metadata": {},
   "outputs": [],
   "source": [
    "def med(x):\n",
    "    return x.median()"
   ]
  },
  {
   "cell_type": "code",
   "execution_count": 325,
   "id": "43947326-1341-4f4f-9ae6-26ec6b282241",
   "metadata": {},
   "outputs": [
    {
     "data": {
      "text/plain": [
       "Values    6.0\n",
       "dtype: float64"
      ]
     },
     "execution_count": 325,
     "metadata": {},
     "output_type": "execute_result"
    }
   ],
   "source": [
    "df6.apply(med)"
   ]
  },
  {
   "cell_type": "code",
   "execution_count": 326,
   "id": "03806268-9567-4ff6-8ab0-f5bd5b827676",
   "metadata": {},
   "outputs": [
    {
     "name": "stdout",
     "output_type": "stream",
     "text": [
      "Q_10_ANS:- \n"
     ]
    }
   ],
   "source": [
    "print(\"Q_10_ANS:- \")"
   ]
  },
  {
   "cell_type": "code",
   "execution_count": 341,
   "id": "6e6d7900-522e-4055-9691-10902fb474a2",
   "metadata": {},
   "outputs": [],
   "source": [
    "\n",
    "reliance = pd.read_csv('RELIANCE.NS_.csv', index_col='Date',parse_dates=True)\n"
   ]
  },
  {
   "cell_type": "code",
   "execution_count": 346,
   "id": "02e0ce35-9a96-417a-9a35-82e1ee999e82",
   "metadata": {},
   "outputs": [
    {
     "data": {
      "text/html": [
       "<div>\n",
       "<style scoped>\n",
       "    .dataframe tbody tr th:only-of-type {\n",
       "        vertical-align: middle;\n",
       "    }\n",
       "\n",
       "    .dataframe tbody tr th {\n",
       "        vertical-align: top;\n",
       "    }\n",
       "\n",
       "    .dataframe thead th {\n",
       "        text-align: right;\n",
       "    }\n",
       "</style>\n",
       "<table border=\"1\" class=\"dataframe\">\n",
       "  <thead>\n",
       "    <tr style=\"text-align: right;\">\n",
       "      <th></th>\n",
       "      <th>Sale</th>\n",
       "      <th>MovingAverage</th>\n",
       "    </tr>\n",
       "    <tr>\n",
       "      <th>Date</th>\n",
       "      <th></th>\n",
       "      <th></th>\n",
       "    </tr>\n",
       "  </thead>\n",
       "  <tbody>\n",
       "    <tr>\n",
       "      <th>2016-07-29</th>\n",
       "      <td>4444057.0</td>\n",
       "      <td>4.525321e+06</td>\n",
       "    </tr>\n",
       "    <tr>\n",
       "      <th>2016-08-01</th>\n",
       "      <td>3681961.0</td>\n",
       "      <td>4.608863e+06</td>\n",
       "    </tr>\n",
       "    <tr>\n",
       "      <th>2016-08-02</th>\n",
       "      <td>3558227.0</td>\n",
       "      <td>4.662306e+06</td>\n",
       "    </tr>\n",
       "    <tr>\n",
       "      <th>2016-08-03</th>\n",
       "      <td>5479056.0</td>\n",
       "      <td>4.901673e+06</td>\n",
       "    </tr>\n",
       "    <tr>\n",
       "      <th>2016-08-04</th>\n",
       "      <td>4701579.0</td>\n",
       "      <td>4.879997e+06</td>\n",
       "    </tr>\n",
       "    <tr>\n",
       "      <th>...</th>\n",
       "      <td>...</td>\n",
       "      <td>...</td>\n",
       "    </tr>\n",
       "    <tr>\n",
       "      <th>2021-07-14</th>\n",
       "      <td>3937768.0</td>\n",
       "      <td>4.257872e+06</td>\n",
       "    </tr>\n",
       "    <tr>\n",
       "      <th>2021-07-15</th>\n",
       "      <td>4360415.0</td>\n",
       "      <td>4.216879e+06</td>\n",
       "    </tr>\n",
       "    <tr>\n",
       "      <th>2021-07-16</th>\n",
       "      <td>4074206.0</td>\n",
       "      <td>4.109633e+06</td>\n",
       "    </tr>\n",
       "    <tr>\n",
       "      <th>2021-07-19</th>\n",
       "      <td>3855577.0</td>\n",
       "      <td>3.922988e+06</td>\n",
       "    </tr>\n",
       "    <tr>\n",
       "      <th>2021-07-20</th>\n",
       "      <td>3110610.0</td>\n",
       "      <td>3.771520e+06</td>\n",
       "    </tr>\n",
       "  </tbody>\n",
       "</table>\n",
       "<p>1214 rows × 2 columns</p>\n",
       "</div>"
      ],
      "text/plain": [
       "                 Sale  MovingAverage\n",
       "Date                                \n",
       "2016-07-29  4444057.0   4.525321e+06\n",
       "2016-08-01  3681961.0   4.608863e+06\n",
       "2016-08-02  3558227.0   4.662306e+06\n",
       "2016-08-03  5479056.0   4.901673e+06\n",
       "2016-08-04  4701579.0   4.879997e+06\n",
       "...               ...            ...\n",
       "2021-07-14  3937768.0   4.257872e+06\n",
       "2021-07-15  4360415.0   4.216879e+06\n",
       "2021-07-16  4074206.0   4.109633e+06\n",
       "2021-07-19  3855577.0   3.922988e+06\n",
       "2021-07-20  3110610.0   3.771520e+06\n",
       "\n",
       "[1214 rows x 2 columns]"
      ]
     },
     "execution_count": 346,
     "metadata": {},
     "output_type": "execute_result"
    }
   ],
   "source": [
    "\n",
    "reliance = reliance['Sale'].to_frame()\n",
    "\n",
    "reliance['MovingAverage'] = reliance['Sale'].rolling(7).mean()\n",
    "\n",
    "reliance.dropna(inplace=True)\n",
    "\n",
    "reliance\n"
   ]
  },
  {
   "cell_type": "code",
   "execution_count": 347,
   "id": "3669b27c-c3b6-45a7-a02c-b6a599f61946",
   "metadata": {},
   "outputs": [
    {
     "name": "stdout",
     "output_type": "stream",
     "text": [
      "Q_11_ANS:- \n"
     ]
    }
   ],
   "source": [
    "print(\"Q_11_ANS:- \")"
   ]
  },
  {
   "cell_type": "code",
   "execution_count": 348,
   "id": "b5827c38-c888-4db7-ac55-2301c3505b5b",
   "metadata": {},
   "outputs": [],
   "source": [
    "date = pd.date_range(start = '2023-01-01',end = '2023-01-05')\n",
    "df7 = pd.DataFrame({'Date':date})"
   ]
  },
  {
   "cell_type": "code",
   "execution_count": 350,
   "id": "3bd01d44-0530-4aa0-bf6f-8bd1daf8b1c4",
   "metadata": {},
   "outputs": [],
   "source": [
    "df7['Weekday'] = ['Sunday','Monday','Tuesday','Wednesday','Thusday']"
   ]
  },
  {
   "cell_type": "code",
   "execution_count": 351,
   "id": "3bb4c243-45a7-43ea-a5b2-c2a978abf3af",
   "metadata": {},
   "outputs": [
    {
     "data": {
      "text/html": [
       "<div>\n",
       "<style scoped>\n",
       "    .dataframe tbody tr th:only-of-type {\n",
       "        vertical-align: middle;\n",
       "    }\n",
       "\n",
       "    .dataframe tbody tr th {\n",
       "        vertical-align: top;\n",
       "    }\n",
       "\n",
       "    .dataframe thead th {\n",
       "        text-align: right;\n",
       "    }\n",
       "</style>\n",
       "<table border=\"1\" class=\"dataframe\">\n",
       "  <thead>\n",
       "    <tr style=\"text-align: right;\">\n",
       "      <th></th>\n",
       "      <th>Date</th>\n",
       "      <th>Weekday</th>\n",
       "    </tr>\n",
       "  </thead>\n",
       "  <tbody>\n",
       "    <tr>\n",
       "      <th>0</th>\n",
       "      <td>2023-01-01</td>\n",
       "      <td>Sunday</td>\n",
       "    </tr>\n",
       "    <tr>\n",
       "      <th>1</th>\n",
       "      <td>2023-01-02</td>\n",
       "      <td>Monday</td>\n",
       "    </tr>\n",
       "    <tr>\n",
       "      <th>2</th>\n",
       "      <td>2023-01-03</td>\n",
       "      <td>Tuesday</td>\n",
       "    </tr>\n",
       "    <tr>\n",
       "      <th>3</th>\n",
       "      <td>2023-01-04</td>\n",
       "      <td>Wednesday</td>\n",
       "    </tr>\n",
       "    <tr>\n",
       "      <th>4</th>\n",
       "      <td>2023-01-05</td>\n",
       "      <td>Thusday</td>\n",
       "    </tr>\n",
       "  </tbody>\n",
       "</table>\n",
       "</div>"
      ],
      "text/plain": [
       "        Date    Weekday\n",
       "0 2023-01-01     Sunday\n",
       "1 2023-01-02     Monday\n",
       "2 2023-01-03    Tuesday\n",
       "3 2023-01-04  Wednesday\n",
       "4 2023-01-05    Thusday"
      ]
     },
     "execution_count": 351,
     "metadata": {},
     "output_type": "execute_result"
    }
   ],
   "source": [
    "df7"
   ]
  },
  {
   "cell_type": "code",
   "execution_count": 358,
   "id": "4685de1a-389e-4590-a7dc-661b56feb6a4",
   "metadata": {},
   "outputs": [
    {
     "name": "stdout",
     "output_type": "stream",
     "text": [
      "Q_12_ANS:- \n"
     ]
    }
   ],
   "source": [
    "print(\"Q_12_ANS:- \")"
   ]
  },
  {
   "cell_type": "code",
   "execution_count": 415,
   "id": "0655415f-998b-4f56-8a15-2f400fcbb492",
   "metadata": {},
   "outputs": [
    {
     "data": {
      "text/html": [
       "<div>\n",
       "<style scoped>\n",
       "    .dataframe tbody tr th:only-of-type {\n",
       "        vertical-align: middle;\n",
       "    }\n",
       "\n",
       "    .dataframe tbody tr th {\n",
       "        vertical-align: top;\n",
       "    }\n",
       "\n",
       "    .dataframe thead th {\n",
       "        text-align: right;\n",
       "    }\n",
       "</style>\n",
       "<table border=\"1\" class=\"dataframe\">\n",
       "  <thead>\n",
       "    <tr style=\"text-align: right;\">\n",
       "      <th></th>\n",
       "      <th>timestamp</th>\n",
       "    </tr>\n",
       "  </thead>\n",
       "  <tbody>\n",
       "    <tr>\n",
       "      <th>0</th>\n",
       "      <td>2023-01-01</td>\n",
       "    </tr>\n",
       "    <tr>\n",
       "      <th>1</th>\n",
       "      <td>2023-01-02</td>\n",
       "    </tr>\n",
       "    <tr>\n",
       "      <th>2</th>\n",
       "      <td>2023-01-03</td>\n",
       "    </tr>\n",
       "    <tr>\n",
       "      <th>3</th>\n",
       "      <td>2023-01-04</td>\n",
       "    </tr>\n",
       "    <tr>\n",
       "      <th>4</th>\n",
       "      <td>2023-01-05</td>\n",
       "    </tr>\n",
       "    <tr>\n",
       "      <th>5</th>\n",
       "      <td>2023-01-06</td>\n",
       "    </tr>\n",
       "    <tr>\n",
       "      <th>6</th>\n",
       "      <td>2023-01-07</td>\n",
       "    </tr>\n",
       "    <tr>\n",
       "      <th>7</th>\n",
       "      <td>2023-01-08</td>\n",
       "    </tr>\n",
       "    <tr>\n",
       "      <th>8</th>\n",
       "      <td>2023-01-09</td>\n",
       "    </tr>\n",
       "    <tr>\n",
       "      <th>9</th>\n",
       "      <td>2023-01-10</td>\n",
       "    </tr>\n",
       "    <tr>\n",
       "      <th>10</th>\n",
       "      <td>2023-01-11</td>\n",
       "    </tr>\n",
       "    <tr>\n",
       "      <th>11</th>\n",
       "      <td>2023-01-12</td>\n",
       "    </tr>\n",
       "    <tr>\n",
       "      <th>12</th>\n",
       "      <td>2023-01-13</td>\n",
       "    </tr>\n",
       "    <tr>\n",
       "      <th>13</th>\n",
       "      <td>2023-01-14</td>\n",
       "    </tr>\n",
       "    <tr>\n",
       "      <th>14</th>\n",
       "      <td>2023-01-15</td>\n",
       "    </tr>\n",
       "    <tr>\n",
       "      <th>15</th>\n",
       "      <td>2023-01-16</td>\n",
       "    </tr>\n",
       "    <tr>\n",
       "      <th>16</th>\n",
       "      <td>2023-01-17</td>\n",
       "    </tr>\n",
       "    <tr>\n",
       "      <th>17</th>\n",
       "      <td>2023-01-18</td>\n",
       "    </tr>\n",
       "    <tr>\n",
       "      <th>18</th>\n",
       "      <td>2023-01-19</td>\n",
       "    </tr>\n",
       "    <tr>\n",
       "      <th>19</th>\n",
       "      <td>2023-01-20</td>\n",
       "    </tr>\n",
       "    <tr>\n",
       "      <th>20</th>\n",
       "      <td>2023-01-21</td>\n",
       "    </tr>\n",
       "    <tr>\n",
       "      <th>21</th>\n",
       "      <td>2023-01-22</td>\n",
       "    </tr>\n",
       "    <tr>\n",
       "      <th>22</th>\n",
       "      <td>2023-01-23</td>\n",
       "    </tr>\n",
       "    <tr>\n",
       "      <th>23</th>\n",
       "      <td>2023-01-24</td>\n",
       "    </tr>\n",
       "    <tr>\n",
       "      <th>24</th>\n",
       "      <td>2023-01-25</td>\n",
       "    </tr>\n",
       "    <tr>\n",
       "      <th>25</th>\n",
       "      <td>2023-01-26</td>\n",
       "    </tr>\n",
       "    <tr>\n",
       "      <th>26</th>\n",
       "      <td>2023-01-27</td>\n",
       "    </tr>\n",
       "    <tr>\n",
       "      <th>27</th>\n",
       "      <td>2023-01-28</td>\n",
       "    </tr>\n",
       "    <tr>\n",
       "      <th>28</th>\n",
       "      <td>2023-01-29</td>\n",
       "    </tr>\n",
       "    <tr>\n",
       "      <th>29</th>\n",
       "      <td>2023-01-30</td>\n",
       "    </tr>\n",
       "    <tr>\n",
       "      <th>30</th>\n",
       "      <td>2023-01-31</td>\n",
       "    </tr>\n",
       "  </tbody>\n",
       "</table>\n",
       "</div>"
      ],
      "text/plain": [
       "    timestamp\n",
       "0  2023-01-01\n",
       "1  2023-01-02\n",
       "2  2023-01-03\n",
       "3  2023-01-04\n",
       "4  2023-01-05\n",
       "5  2023-01-06\n",
       "6  2023-01-07\n",
       "7  2023-01-08\n",
       "8  2023-01-09\n",
       "9  2023-01-10\n",
       "10 2023-01-11\n",
       "11 2023-01-12\n",
       "12 2023-01-13\n",
       "13 2023-01-14\n",
       "14 2023-01-15\n",
       "15 2023-01-16\n",
       "16 2023-01-17\n",
       "17 2023-01-18\n",
       "18 2023-01-19\n",
       "19 2023-01-20\n",
       "20 2023-01-21\n",
       "21 2023-01-22\n",
       "22 2023-01-23\n",
       "23 2023-01-24\n",
       "24 2023-01-25\n",
       "25 2023-01-26\n",
       "26 2023-01-27\n",
       "27 2023-01-28\n",
       "28 2023-01-29\n",
       "29 2023-01-30\n",
       "30 2023-01-31"
      ]
     },
     "execution_count": 415,
     "metadata": {},
     "output_type": "execute_result"
    }
   ],
   "source": [
    "import pandas as pd\n",
    "import datetime\n",
    "\n",
    "start_date = '2023-01-01'\n",
    "end_date = '2023-01-31'\n",
    "hour = 8\n",
    "minute = 38\n",
    "\n",
    "# Create a range of dates and times using pandas\n",
    "dates = pd.date_range(start=start_date, end=end_date, freq='D', normalize=True)\n",
    "times = pd.date_range(start='{}:{}'.format(hour, minute), end='{}:{}'.format(hour, minute), freq='H', normalize=True)\n",
    "\n",
    "# Combine the dates and times into a single timestamp for each day\n",
    "timestamps = [datetime.datetime.combine(date.date(), time.time()) for date in dates for time in times]\n",
    "\n",
    "# Create a DataFrame containing the timestamps\n",
    "df = pd.DataFrame({'timestamp': timestamps})\n",
    "\n",
    "# Print the resulting DataFrame\n",
    "df\n",
    "\n"
   ]
  },
  {
   "cell_type": "code",
   "execution_count": 396,
   "id": "3fdd939a-4e7f-4786-bcaa-ae4a442c54c4",
   "metadata": {},
   "outputs": [
    {
     "name": "stdout",
     "output_type": "stream",
     "text": [
      "Q_13_ANS:- As Pandas is dependent on the NumPy library, we need to import this dependency.\n",
      "\n",
      "Pandas is a Python library for data analysis. Started by Wes McKinney in 2008 out of a need for a powerful and flexible quantitative analysis tool, pandas has grown into one of the most popular Python libraries. It has an extremely active community of contributors\n",
      "\n",
      "Pandas is built on top of two core Python libraries—matplotlib for data visualization and NumPy for mathematical operations. Pandas acts as a wrapper over these libraries, allowing you to access many of matplotlib's and NumPy's methods with less code. For instance, pandas' .plot() combines multiple matplotlib methods into a single method, enabling you to plot a chart in a few lines.\n",
      "\n",
      "Before pandas, most analysts used Python for data munging and preparation, and then switched to a more domain specific language like R for the rest of their workflow. Pandas introduced two new types of objects for storing data that make analytical tasks easier and eliminate the need to switch tools: Series, which have a list-like structure, and DataFrames, which have a tabular structure. \n"
     ]
    }
   ],
   "source": [
    "print(\"Q_13_ANS:- As Pandas is dependent on the NumPy library, we need to import this dependency.\\n\\nPandas is a Python library for data analysis. Started by Wes McKinney in 2008 out of a need for a powerful and flexible quantitative analysis tool, pandas has grown into one of the most popular Python libraries. It has an extremely active community of contributors\\n\\nPandas is built on top of two core Python libraries—matplotlib for data visualization and NumPy for mathematical operations. Pandas acts as a wrapper over these libraries, allowing you to access many of matplotlib's and NumPy's methods with less code. For instance, pandas' .plot() combines multiple matplotlib methods into a single method, enabling you to plot a chart in a few lines.\\n\\nBefore pandas, most analysts used Python for data munging and preparation, and then switched to a more domain specific language like R for the rest of their workflow. Pandas introduced two new types of objects for storing data that make analytical tasks easier and eliminate the need to switch tools: Series, which have a list-like structure, and DataFrames, which have a tabular structure. \")"
   ]
  },
  {
   "cell_type": "code",
   "execution_count": null,
   "id": "411521e8-e701-4c26-821c-ac89174ed8f2",
   "metadata": {},
   "outputs": [],
   "source": []
  }
 ],
 "metadata": {
  "kernelspec": {
   "display_name": "Python 3 (ipykernel)",
   "language": "python",
   "name": "python3"
  },
  "language_info": {
   "codemirror_mode": {
    "name": "ipython",
    "version": 3
   },
   "file_extension": ".py",
   "mimetype": "text/x-python",
   "name": "python",
   "nbconvert_exporter": "python",
   "pygments_lexer": "ipython3",
   "version": "3.10.6"
  }
 },
 "nbformat": 4,
 "nbformat_minor": 5
}
